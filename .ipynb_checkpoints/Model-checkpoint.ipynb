{
 "cells": [
  {
   "cell_type": "markdown",
   "id": "6cf7eeb5",
   "metadata": {},
   "source": [
    "# Entrenamiento del modelo"
   ]
  },
  {
   "cell_type": "code",
   "execution_count": 1,
   "id": "45b24db1",
   "metadata": {},
   "outputs": [],
   "source": [
    "import joblib\n",
    "import pandas as pd\n",
    "import numpy as np\n",
    "\n",
    "from sklearn.model_selection import train_test_split\n",
    "from sklearn.metrics import classification_report"
   ]
  },
  {
   "cell_type": "code",
   "execution_count": 2,
   "id": "a4ff5272",
   "metadata": {},
   "outputs": [],
   "source": [
    "df = pd.read_csv(\"data/train.csv\")"
   ]
  },
  {
   "cell_type": "code",
   "execution_count": 3,
   "id": "704dbaaa",
   "metadata": {
    "scrolled": true
   },
   "outputs": [
    {
     "name": "stdout",
     "output_type": "stream",
     "text": [
      "<class 'pandas.core.frame.DataFrame'>\n",
      "RangeIndex: 8693 entries, 0 to 8692\n",
      "Data columns (total 14 columns):\n",
      " #   Column        Non-Null Count  Dtype  \n",
      "---  ------        --------------  -----  \n",
      " 0   PassengerId   8693 non-null   object \n",
      " 1   HomePlanet    8492 non-null   object \n",
      " 2   CryoSleep     8476 non-null   object \n",
      " 3   Cabin         8494 non-null   object \n",
      " 4   Destination   8511 non-null   object \n",
      " 5   Age           8514 non-null   float64\n",
      " 6   VIP           8490 non-null   object \n",
      " 7   RoomService   8512 non-null   float64\n",
      " 8   FoodCourt     8510 non-null   float64\n",
      " 9   ShoppingMall  8485 non-null   float64\n",
      " 10  Spa           8510 non-null   float64\n",
      " 11  VRDeck        8505 non-null   float64\n",
      " 12  Name          8493 non-null   object \n",
      " 13  Transported   8693 non-null   bool   \n",
      "dtypes: bool(1), float64(6), object(7)\n",
      "memory usage: 891.5+ KB\n"
     ]
    }
   ],
   "source": [
    "df.info()"
   ]
  },
  {
   "cell_type": "code",
   "execution_count": 4,
   "id": "ec499b95",
   "metadata": {},
   "outputs": [],
   "source": [
    "# Vamos a entrenar el primer modelo\n",
    "from sklearn.linear_model import LogisticRegression"
   ]
  },
  {
   "cell_type": "code",
   "execution_count": 5,
   "id": "b164f161",
   "metadata": {},
   "outputs": [],
   "source": [
    "df = df.dropna(subset=['ShoppingMall', 'Age', 'FoodCourt', 'Spa', 'RoomService', 'VRDeck', 'VIP'])"
   ]
  },
  {
   "cell_type": "code",
   "execution_count": 6,
   "id": "a3efc54f",
   "metadata": {},
   "outputs": [],
   "source": [
    "# Las variables que vamos a usar.\n",
    "\n",
    "features = list(set(df.columns) - set(['Transported', 'PassengerId', 'HomePlanet', 'CryoSleep', \n",
    "                                       'Cabin', 'Destination', 'Name']))\n",
    "\n",
    "x_train, x_test, y_train, y_test = train_test_split(df[features], df.Transported, \n",
    "                                                    test_size=0.3, random_state=1)"
   ]
  },
  {
   "cell_type": "code",
   "execution_count": 7,
   "id": "f7365562",
   "metadata": {
    "scrolled": false
   },
   "outputs": [
    {
     "name": "stdout",
     "output_type": "stream",
     "text": [
      "              precision    recall  f1-score   support\n",
      "\n",
      "       False       0.65      0.87      0.75       843\n",
      "        True       0.90      0.72      0.80      1389\n",
      "\n",
      "    accuracy                           0.78      2232\n",
      "   macro avg       0.78      0.79      0.77      2232\n",
      "weighted avg       0.81      0.78      0.78      2232\n",
      "\n"
     ]
    }
   ],
   "source": [
    "logistic_reg = LogisticRegression()\n",
    "\n",
    "logistic_reg.fit(x_train, y_train)\n",
    "\n",
    "y_pred = logistic_reg.predict(x_test)\n",
    "\n",
    "print(classification_report(y_pred,y_test))"
   ]
  },
  {
   "cell_type": "markdown",
   "id": "b61ff63f",
   "metadata": {},
   "source": [
    "Los resultados no son malos, pero vamos a ver si podemos mejorarlos"
   ]
  },
  {
   "cell_type": "code",
   "execution_count": 8,
   "id": "a88f5293",
   "metadata": {},
   "outputs": [],
   "source": [
    "from sklearn.tree import DecisionTreeClassifier"
   ]
  },
  {
   "cell_type": "code",
   "execution_count": 9,
   "id": "6427c9eb",
   "metadata": {},
   "outputs": [
    {
     "name": "stdout",
     "output_type": "stream",
     "text": [
      "              precision    recall  f1-score   support\n",
      "\n",
      "       False       0.62      0.80      0.70       870\n",
      "        True       0.85      0.69      0.76      1362\n",
      "\n",
      "    accuracy                           0.73      2232\n",
      "   macro avg       0.73      0.75      0.73      2232\n",
      "weighted avg       0.76      0.73      0.74      2232\n",
      "\n"
     ]
    }
   ],
   "source": [
    "dec_tree = DecisionTreeClassifier()\n",
    "\n",
    "dec_tree.fit(x_train, y_train)\n",
    "\n",
    "y_pred2 = dec_tree.predict(x_test)\n",
    "\n",
    "print(classification_report(y_pred2,y_test))"
   ]
  },
  {
   "cell_type": "markdown",
   "id": "107c8cda",
   "metadata": {},
   "source": [
    "No mejoraron sino que empeoraron un poco. Vamos a probar con otro modelo."
   ]
  },
  {
   "cell_type": "code",
   "execution_count": 10,
   "id": "ec564a11",
   "metadata": {},
   "outputs": [],
   "source": [
    "from sklearn.ensemble import RandomForestClassifier"
   ]
  },
  {
   "cell_type": "code",
   "execution_count": 11,
   "id": "931be4a9",
   "metadata": {},
   "outputs": [
    {
     "name": "stdout",
     "output_type": "stream",
     "text": [
      "              precision    recall  f1-score   support\n",
      "\n",
      "       False       0.74      0.83      0.78      1007\n",
      "        True       0.85      0.76      0.80      1225\n",
      "\n",
      "    accuracy                           0.79      2232\n",
      "   macro avg       0.79      0.80      0.79      2232\n",
      "weighted avg       0.80      0.79      0.79      2232\n",
      "\n"
     ]
    }
   ],
   "source": [
    "rand_forest = RandomForestClassifier()\n",
    "\n",
    "rand_forest.fit(x_train, y_train)\n",
    "\n",
    "y_pred3 = rand_forest.predict(x_test)\n",
    "\n",
    "print(classification_report(y_pred3,y_test))"
   ]
  },
  {
   "cell_type": "markdown",
   "id": "8027c25d",
   "metadata": {},
   "source": [
    "No cambia tanto respecto a la regresión logística. Probemos un último "
   ]
  },
  {
   "cell_type": "code",
   "execution_count": 12,
   "id": "b8c0f91b",
   "metadata": {},
   "outputs": [],
   "source": [
    "from sklearn.ensemble import GradientBoostingClassifier"
   ]
  },
  {
   "cell_type": "code",
   "execution_count": 13,
   "id": "491410df",
   "metadata": {},
   "outputs": [
    {
     "name": "stdout",
     "output_type": "stream",
     "text": [
      "              precision    recall  f1-score   support\n",
      "\n",
      "       False       0.74      0.84      0.79      1001\n",
      "        True       0.85      0.76      0.81      1231\n",
      "\n",
      "    accuracy                           0.80      2232\n",
      "   macro avg       0.80      0.80      0.80      2232\n",
      "weighted avg       0.80      0.80      0.80      2232\n",
      "\n"
     ]
    }
   ],
   "source": [
    "grad_boosting = GradientBoostingClassifier()\n",
    "\n",
    "grad_boosting.fit(x_train, y_train)\n",
    "\n",
    "y_pred4 = grad_boosting.predict(x_test)\n",
    "\n",
    "print(classification_report(y_pred4,y_test))"
   ]
  },
  {
   "cell_type": "markdown",
   "id": "3f993ba8",
   "metadata": {},
   "source": [
    "### Mejorando el modelo de Regresión logística:\n",
    "\n",
    "En definitiva, los mejores resultados son los obtenidos con la Regresión Logística. Entonces, procederemos a tratar de mejorarlo manipulando los datos de forma distinta."
   ]
  },
  {
   "cell_type": "code",
   "execution_count": 14,
   "id": "defbedc8",
   "metadata": {},
   "outputs": [],
   "source": [
    "df2 = pd.read_csv(\"data/train.csv\")"
   ]
  },
  {
   "cell_type": "code",
   "execution_count": 15,
   "id": "e08feedf",
   "metadata": {},
   "outputs": [],
   "source": [
    "age_median = df2['Age'].mean(skipna=True)\n",
    "\n",
    "df2['Age'] = df2['Age'].fillna(age_median)"
   ]
  },
  {
   "cell_type": "code",
   "execution_count": 16,
   "id": "2184c520",
   "metadata": {},
   "outputs": [],
   "source": [
    "roomservice_median = df2['RoomService'].mean(skipna=True)\n",
    "\n",
    "df2['RoomService'] = df2['RoomService'].fillna(roomservice_median)"
   ]
  },
  {
   "cell_type": "code",
   "execution_count": 17,
   "id": "56251cf8",
   "metadata": {},
   "outputs": [],
   "source": [
    "foodcour_median = df2['FoodCourt'].mean(skipna=True)\n",
    "\n",
    "df2['FoodCourt'] = df2['FoodCourt'].fillna(foodcour_median)"
   ]
  },
  {
   "cell_type": "code",
   "execution_count": 18,
   "id": "d9cd64ef",
   "metadata": {},
   "outputs": [],
   "source": [
    "shoping_median = df2['ShoppingMall'].mean(skipna=True)\n",
    "\n",
    "df2['ShoppingMall'] = df2['ShoppingMall'].fillna(shoping_median)"
   ]
  },
  {
   "cell_type": "code",
   "execution_count": 19,
   "id": "53529c16",
   "metadata": {},
   "outputs": [],
   "source": [
    "spa_median = df2['Spa'].mean(skipna=True)\n",
    "\n",
    "df2['Spa'] = df2['Spa'].fillna(spa_median)"
   ]
  },
  {
   "cell_type": "code",
   "execution_count": 20,
   "id": "60f3d729",
   "metadata": {},
   "outputs": [],
   "source": [
    "vrdeck_median = df2['VRDeck'].mean(skipna=True)\n",
    "\n",
    "df2['VRDeck'] = df2['VRDeck'].fillna(vrdeck_median)"
   ]
  },
  {
   "cell_type": "code",
   "execution_count": 21,
   "id": "e18b0530",
   "metadata": {},
   "outputs": [],
   "source": [
    "vip_mode = df2['VIP'].mode().values[0]\n",
    "\n",
    "df2['VIP'] = df2['VIP'].fillna(vip_mode)"
   ]
  },
  {
   "cell_type": "code",
   "execution_count": 22,
   "id": "d4824b71",
   "metadata": {},
   "outputs": [],
   "source": [
    "features2 = list(set(df2.columns) - set(['Transported', 'PassengerId', 'HomePlanet', 'CryoSleep', \n",
    "                                       'Cabin', 'Destination', 'Name']))\n",
    "\n",
    "x_train2, x_test2, y_train2, y_test2 = train_test_split(df2[features], df2.Transported, \n",
    "                                                    test_size=0.3, random_state=1)"
   ]
  },
  {
   "cell_type": "code",
   "execution_count": 23,
   "id": "863c0f05",
   "metadata": {
    "scrolled": true
   },
   "outputs": [
    {
     "name": "stdout",
     "output_type": "stream",
     "text": [
      "              precision    recall  f1-score   support\n",
      "\n",
      "       False       0.66      0.86      0.75       999\n",
      "        True       0.89      0.73      0.80      1609\n",
      "\n",
      "    accuracy                           0.78      2608\n",
      "   macro avg       0.78      0.79      0.78      2608\n",
      "weighted avg       0.81      0.78      0.78      2608\n",
      "\n"
     ]
    }
   ],
   "source": [
    "logistic_reg2 = LogisticRegression()\n",
    "\n",
    "logistic_reg2.fit(x_train2, y_train2)\n",
    "\n",
    "y_pred2 = logistic_reg2.predict(x_test2)\n",
    "\n",
    "print(classification_report(y_pred2,y_test2))"
   ]
  },
  {
   "cell_type": "markdown",
   "id": "19fb5cbd",
   "metadata": {},
   "source": [
    "La verdad es que no cambia mucho."
   ]
  },
  {
   "cell_type": "markdown",
   "id": "3419bc6f",
   "metadata": {},
   "source": [
    "### Prediciendo con los datos de test ahora."
   ]
  },
  {
   "cell_type": "code",
   "execution_count": 24,
   "id": "0cee0400",
   "metadata": {},
   "outputs": [
    {
     "name": "stdout",
     "output_type": "stream",
     "text": [
      "<class 'pandas.core.frame.DataFrame'>\n",
      "RangeIndex: 4277 entries, 0 to 4276\n",
      "Data columns (total 7 columns):\n",
      " #   Column        Non-Null Count  Dtype  \n",
      "---  ------        --------------  -----  \n",
      " 0   VIP           4184 non-null   object \n",
      " 1   VRDeck        4197 non-null   float64\n",
      " 2   FoodCourt     4171 non-null   float64\n",
      " 3   Spa           4176 non-null   float64\n",
      " 4   Age           4186 non-null   float64\n",
      " 5   RoomService   4195 non-null   float64\n",
      " 6   ShoppingMall  4179 non-null   float64\n",
      "dtypes: float64(6), object(1)\n",
      "memory usage: 234.0+ KB\n"
     ]
    }
   ],
   "source": [
    "df_test = pd.read_csv(\"data/test.csv\")\n",
    "\n",
    "features_test = features\n",
    "\n",
    "df_test[features_test].info()"
   ]
  },
  {
   "cell_type": "code",
   "execution_count": 25,
   "id": "a8e9724a",
   "metadata": {},
   "outputs": [],
   "source": [
    "df_test = df_test.dropna(subset=['ShoppingMall', 'Age', 'FoodCourt', 'Spa', 'RoomService', \n",
    "                                 'VRDeck', 'VIP'])"
   ]
  },
  {
   "cell_type": "code",
   "execution_count": 26,
   "id": "f36d0af5",
   "metadata": {},
   "outputs": [],
   "source": [
    "y_pred_test = logistic_reg.predict(df_test[features_test])"
   ]
  },
  {
   "cell_type": "code",
   "execution_count": 27,
   "id": "227750c7",
   "metadata": {},
   "outputs": [],
   "source": [
    "df_kaggle = pd.DataFrame(y_pred_test,columns=['Transported'])\n",
    "df_kaggle = pd.concat([df_kaggle, df_test['PassengerId']], axis=1)\n",
    "\n",
    "df_kaggle.to_csv(\"data/predictions.csv\", index=False)"
   ]
  },
  {
   "cell_type": "markdown",
   "id": "99b5af7a",
   "metadata": {},
   "source": [
    "### Exportar el modelo:"
   ]
  },
  {
   "cell_type": "code",
   "execution_count": 28,
   "id": "22d5234c",
   "metadata": {
    "scrolled": true
   },
   "outputs": [
    {
     "data": {
      "text/plain": [
       "['logistic_regression.joblib']"
      ]
     },
     "execution_count": 28,
     "metadata": {},
     "output_type": "execute_result"
    }
   ],
   "source": [
    "joblib.dump(logistic_reg, \"logistic_regression.joblib\")"
   ]
  },
  {
   "cell_type": "code",
   "execution_count": null,
   "id": "91641902",
   "metadata": {},
   "outputs": [],
   "source": []
  }
 ],
 "metadata": {
  "kernelspec": {
   "display_name": "Python 3 (ipykernel)",
   "language": "python",
   "name": "python3"
  },
  "language_info": {
   "codemirror_mode": {
    "name": "ipython",
    "version": 3
   },
   "file_extension": ".py",
   "mimetype": "text/x-python",
   "name": "python",
   "nbconvert_exporter": "python",
   "pygments_lexer": "ipython3",
   "version": "3.9.16"
  }
 },
 "nbformat": 4,
 "nbformat_minor": 5
}
