{
 "cells": [
  {
   "cell_type": "markdown",
   "id": "diagnostic-failing",
   "metadata": {},
   "source": [
    "Integrantes\n",
    "\n",
    "+ Nombre: Yuluka Gigante Muriel, Código: A00369316\n",
    "+ Nombre: Dennis Masso Macías, Código: A00369516"
   ]
  },
  {
   "cell_type": "markdown",
   "id": "outdoor-separate",
   "metadata": {},
   "source": [
    "## Spaceship"
   ]
  },
  {
   "cell_type": "markdown",
   "id": "ecological-carroll",
   "metadata": {},
   "source": [
    "1. Proponga un modelo para el reto en Kaggle [Spaceship Titanic](https://www.kaggle.com/competitions/spaceship-titanic), tenga presente que el contexto y los datos son distintos\n",
    "\n",
    "*Desarrolle una aplicación web con streamlit teniendo como base los siguientes requerimientos:*\n",
    "\n",
    "2. El sistema debe contar con los elementos de visualización web que se presentan en las siguientes capturas de pantalla\n",
    "3. El sistema debe presentar la tabla de datos\n",
    "4. El sistema debe presentar la visualización de barras\n",
    "5. El sistema debe presentar el resultado del modelo a partir de las entradas del usuario"
   ]
  },
  {
   "cell_type": "markdown",
   "id": "experienced-layer",
   "metadata": {},
   "source": [
    "<img src=\"space1.png\"/>"
   ]
  },
  {
   "cell_type": "markdown",
   "id": "included-snapshot",
   "metadata": {},
   "source": [
    "<img src=\"space2.png\"/>"
   ]
  },
  {
   "cell_type": "markdown",
   "id": "operational-solution",
   "metadata": {},
   "source": [
    "<img src=\"space3.png\"/>"
   ]
  },
  {
   "cell_type": "markdown",
   "id": "minimal-opportunity",
   "metadata": {},
   "source": [
    "# Entregables\n",
    "\n",
    "+ Un entregable es el presente notebook\n",
    "    + Con los nombres de los integrantes.\n",
    "    + Con el proceso del desarrollo del modelo para el reto de datos\n",
    "    + Con la respuesta a las preguntas\n",
    "+ Un archivo python (.py) para la aplicación web de Spaceship Titanic"
   ]
  },
  {
   "cell_type": "markdown",
   "id": "linear-liabilities",
   "metadata": {},
   "source": [
    "# Referencias"
   ]
  },
  {
   "cell_type": "markdown",
   "id": "satellite-nicaragua",
   "metadata": {},
   "source": [
    "+ https://streamlit.io/\n",
    "+ https://scikit-learn.org/stable/modules/model_persistence.html"
   ]
  },
  {
   "cell_type": "markdown",
   "id": "bcd8f8ae",
   "metadata": {},
   "source": [
    "# Solución"
   ]
  },
  {
   "cell_type": "code",
   "execution_count": 11,
   "id": "e5f19eb2",
   "metadata": {},
   "outputs": [],
   "source": [
    "import streamlit as st\n",
    "import pandas as pd\n",
    "import numpy as np\n",
    "import seaborn as sns\n",
    "import joblib\n",
    "\n",
    "st.title('Spaceship Titanic predictor')\n",
    "\n",
    "def load_model():\n",
    "    loaded_model = joblib.load(\"logistic_regression.joblib\")\n",
    "    return loaded_model\n",
    "\n",
    "def load_data():\n",
    "    df = pd.read_csv(\"data/test.csv\")\n",
    "    return df\n",
    "\n",
    "model = load_model()\n",
    "data = load_data()\n",
    "\n",
    "with st.expander(\"Data\"):\n",
    "    st.write(\"Datos de entrenamiento:\")\n",
    "    st.write(data.head())\n",
    "\n",
    "with st.expander(\"Pestaña 2\"):\n",
    "    st.write(\"Contenido de la Pestaña 2\")\n",
    "\n",
    "with st.expander(\"Pestaña 3\"):\n",
    "    st.write(\"Contenido de la Pestaña 3\")\n",
    "\n",
    "\n",
    "\n"
   ]
  }
 ],
 "metadata": {
  "kernelspec": {
   "display_name": "Python 3 (ipykernel)",
   "language": "python",
   "name": "python3"
  },
  "language_info": {
   "codemirror_mode": {
    "name": "ipython",
    "version": 3
   },
   "file_extension": ".py",
   "mimetype": "text/x-python",
   "name": "python",
   "nbconvert_exporter": "python",
   "pygments_lexer": "ipython3",
   "version": "3.9.16"
  }
 },
 "nbformat": 4,
 "nbformat_minor": 5
}
